{
 "cells": [
  {
   "cell_type": "code",
   "execution_count": 1,
   "id": "8e491ddd",
   "metadata": {},
   "outputs": [],
   "source": [
    "import pandas as pd\n",
    "import numpy as np\n",
    "from datetime import datetime\n",
    "import yfinance as yf\n",
    "import math\n",
    "import matplotlib.pyplot as plt"
   ]
  },
  {
   "cell_type": "code",
   "execution_count": 2,
   "id": "8af6775c",
   "metadata": {},
   "outputs": [],
   "source": [
    "atr_period = 10\n",
    "multiplier = 3.0"
   ]
  },
  {
   "cell_type": "code",
   "execution_count": null,
   "id": "1aac1466",
   "metadata": {},
   "outputs": [],
   "source": [
    "symbol = 'AAPL'\n",
    "df = yf.download(symbol, start='2020-01-01')"
   ]
  },
  {
   "cell_type": "code",
   "execution_count": null,
   "id": "52cda4b9",
   "metadata": {},
   "outputs": [],
   "source": [
    "high = df['High']\n",
    "low = df['Low']\n",
    "close = df['Close']"
   ]
  },
  {
   "cell_type": "markdown",
   "id": "3869455c",
   "metadata": {},
   "source": [
    "# ATR Calculation"
   ]
  },
  {
   "cell_type": "code",
   "execution_count": null,
   "id": "b5df008b",
   "metadata": {},
   "outputs": [],
   "source": [
    "# calculate ATR\n",
    "price_diffs = [high - low, \n",
    "                high - close.shift(), \n",
    "                close.shift() - low]\n",
    "true_range = pd.concat(price_diffs, axis=1)\n",
    "true_range = true_range.abs().max(axis=1)\n",
    "# default ATR calculation in supertrend indicator\n",
    "atr = true_range.ewm(alpha=1/atr_period,min_periods=atr_period).mean()"
   ]
  },
  {
   "cell_type": "code",
   "execution_count": null,
   "id": "c9142fd0",
   "metadata": {},
   "outputs": [],
   "source": [
    "# HL2 is simply the average of high and low prices\n",
    "hl2 = (high + low) / 2\n",
    "# upperband and lowerband calculation\n",
    "# notice that final bands are set to be equal to the respective bands\n",
    "final_upperband = upperband = hl2 + (multiplier * atr)\n",
    "final_lowerband = lowerband = hl2 - (multiplier * atr)"
   ]
  },
  {
   "cell_type": "markdown",
   "id": "f9c1a26b",
   "metadata": {},
   "source": [
    "# Adjustment we need to make to the upper and lower bands to form the final bands"
   ]
  },
  {
   "cell_type": "code",
   "execution_count": null,
   "id": "95b5f345",
   "metadata": {},
   "outputs": [],
   "source": [
    "# initialize Supertrend column to True\n",
    "supertrend = [True] * len(df)\n",
    "\n",
    "for i in range(1, len(df.index)):\n",
    "    curr, prev = i, i-1\n",
    "    \n",
    "    # if current close price crosses above upperband\n",
    "    if close[curr] > final_upperband[prev]:\n",
    "        supertrend[curr] = True\n",
    "    # if current close price crosses below lowerband\n",
    "    elif close[curr] < final_lowerband[prev]:\n",
    "        supertrend[curr] = False\n",
    "    # else, the trend continues\n",
    "    else:\n",
    "        supertrend[curr] = supertrend[prev]\n",
    "        \n",
    "        # adjustment to the final bands\n",
    "        if supertrend[curr] == True and final_lowerband[curr] < final_lowerband[prev]:\n",
    "            final_lowerband[curr] = final_lowerband[prev]\n",
    "        if supertrend[curr] == False and final_upperband[curr] > final_upperband[prev]:\n",
    "            final_upperband[curr] = final_upperband[prev]\n",
    "\n",
    "    # to remove bands according to the trend direction\n",
    "    if supertrend[curr] == True:\n",
    "        final_upperband[curr] = np.nan\n",
    "    else:\n",
    "        final_lowerband[curr] = np.nan"
   ]
  },
  {
   "cell_type": "code",
   "execution_count": null,
   "id": "37132c54",
   "metadata": {},
   "outputs": [],
   "source": [
    "supertrend = pd.DataFrame({\n",
    "        'Supertrend': supertrend,\n",
    "        'Final Lowerband': final_lowerband,\n",
    "        'Final Upperband': final_upperband\n",
    "    }, index=df.index)"
   ]
  },
  {
   "cell_type": "code",
   "execution_count": null,
   "id": "8a4b6cd1",
   "metadata": {},
   "outputs": [],
   "source": [
    "df = df.join(supertrend)"
   ]
  },
  {
   "cell_type": "markdown",
   "id": "0d85b38a",
   "metadata": {},
   "source": [
    "# Visualization"
   ]
  },
  {
   "cell_type": "code",
   "execution_count": null,
   "id": "a952d14d",
   "metadata": {},
   "outputs": [],
   "source": [
    "# visualization\n",
    "plt.plot(df['Close'], label='Close Price')\n",
    "plt.plot(df['Final Lowerband'], 'g', label = 'Final Lowerband')\n",
    "plt.plot(df['Final Upperband'], 'r', label = 'Final Upperband')\n",
    "plt.show()"
   ]
  },
  {
   "cell_type": "markdown",
   "id": "72a0d684",
   "metadata": {},
   "source": [
    "# Backtesting"
   ]
  },
  {
   "cell_type": "markdown",
   "id": "83bfc55d",
   "metadata": {},
   "source": [
    "### Enter when the price movement is in the uptrend and exit when the trend direction changes."
   ]
  },
  {
   "cell_type": "code",
   "execution_count": null,
   "id": "383db8f2",
   "metadata": {},
   "outputs": [],
   "source": [
    "investment = 100000\n",
    "is_uptrend = df['Supertrend']\n",
    "close = df['Close']\n",
    "\n",
    "# initial condition\n",
    "in_position = False\n",
    "equity = investment\n",
    "commission = 5\n",
    "share = 0\n",
    "entry = []\n",
    "exit = []"
   ]
  },
  {
   "cell_type": "code",
   "execution_count": null,
   "id": "4f37ca14",
   "metadata": {},
   "outputs": [],
   "source": [
    "for i in range(2, len(df)):\n",
    "    # if not in position & price is on uptrend -> buy\n",
    "    if not in_position and is_uptrend[i]:\n",
    "        share = math.floor(equity / close[i] / 100) * 100\n",
    "        equity -= share * close[i]\n",
    "        entry.append((i, close[i]))\n",
    "        in_position = True\n",
    "        print(f'Buy {share} shares at {round(close[i],2)} on {df.index[i].strftime(\"%Y/%m/%d\")}')\n",
    "    # if in position & price is not on uptrend -> sell\n",
    "    elif in_position and not is_uptrend[i]:\n",
    "        equity += share * close[i] - commission\n",
    "        exit.append((i, close[i]))\n",
    "        in_position = False\n",
    "        print(f'Sell at {round(close[i],2)} on {df.index[i].strftime(\"%Y/%m/%d\")}')\n"
   ]
  },
  {
   "cell_type": "code",
   "execution_count": null,
   "id": "2ee7a3cb",
   "metadata": {},
   "outputs": [],
   "source": [
    "# if still in position -> sell all share \n",
    "if in_position:\n",
    "    equity += share * close[i] - commission\n",
    "\n",
    "earning = equity - investment\n",
    "roi = round(earning/investment*100,2)\n",
    "print(f'Earning from investing $100k is ${round(earning,2)} (ROI = {roi}%)')"
   ]
  },
  {
   "cell_type": "code",
   "execution_count": null,
   "id": "ae0afcce",
   "metadata": {},
   "outputs": [],
   "source": []
  }
 ],
 "metadata": {
  "kernelspec": {
   "display_name": "Python 3 (ipykernel)",
   "language": "python",
   "name": "python3"
  },
  "language_info": {
   "codemirror_mode": {
    "name": "ipython",
    "version": 3
   },
   "file_extension": ".py",
   "mimetype": "text/x-python",
   "name": "python",
   "nbconvert_exporter": "python",
   "pygments_lexer": "ipython3",
   "version": "3.9.13"
  }
 },
 "nbformat": 4,
 "nbformat_minor": 5
}
